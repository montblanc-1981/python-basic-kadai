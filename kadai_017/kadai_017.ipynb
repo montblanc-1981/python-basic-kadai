{
  "nbformat": 4,
  "nbformat_minor": 0,
  "metadata": {
    "colab": {
      "provenance": [],
      "authorship_tag": "ABX9TyPjhF8Tq5SRltixCSTdSjxg",
      "include_colab_link": true
    },
    "kernelspec": {
      "name": "python3",
      "display_name": "Python 3"
    },
    "language_info": {
      "name": "python"
    }
  },
  "cells": [
    {
      "cell_type": "markdown",
      "metadata": {
        "id": "view-in-github",
        "colab_type": "text"
      },
      "source": [
        "<a href=\"https://colab.research.google.com/github/montblanc-1981/python-basic-kadai/blob/main/kadai_017/kadai_017.ipynb\" target=\"_parent\"><img src=\"https://colab.research.google.com/assets/colab-badge.svg\" alt=\"Open In Colab\"/></a>"
      ]
    },
    {
      "cell_type": "code",
      "execution_count": 2,
      "metadata": {
        "colab": {
          "base_uri": "https://localhost:8080/"
        },
        "id": "dRc95dxIFD7O",
        "outputId": "571375b1-31a9-4d99-856e-e40956f1282f"
      },
      "outputs": [
        {
          "output_type": "stream",
          "name": "stdout",
          "text": [
            "大人です\n",
            "大人ではありません\n",
            "大人です\n"
          ]
        }
      ],
      "source": [
        "class Human:\n",
        "  def __init__(self, name, age):\n",
        "    self.name = name\n",
        "    self.age = age\n",
        "\n",
        "  def check_adult(self):\n",
        "    if 20 <= self.age:\n",
        "      print(\"大人です\")\n",
        "    if 20 > self.age:\n",
        "      print(\"大人ではありません\")\n",
        "\n",
        "human = Human(\"侍太郎\", 21)\n",
        "human1 = Human(\"侍一郎\", 15)\n",
        "human2 = Human(\"侍花子\", 40)\n",
        "\n",
        "humans = [human, human1,human2]\n",
        "\n",
        "for human in humans:\n",
        "  human.check_adult()\n"
      ]
    }
  ]
}